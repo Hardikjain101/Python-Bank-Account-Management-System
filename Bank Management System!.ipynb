{
 "cells": [
  {
   "cell_type": "code",
   "execution_count": 1,
   "id": "418f43f9-bed4-43d3-b488-f90b8171777c",
   "metadata": {},
   "outputs": [
    {
     "name": "stdout",
     "output_type": "stream",
     "text": [
      "~~~~~~~~ Welcome to Ayush Bank ~~~~~~~~\n",
      "\n",
      "How Can we help you today?\n",
      "\n",
      "\n",
      "1. Open an Account\n",
      "2. View Account Details\n",
      "3. Perform Transactions (Withdraw/Deposit/Transfer)\n",
      "4. View Transaction History\n",
      "5. Exit\n",
      "    \n",
      "\n"
     ]
    },
    {
     "name": "stdin",
     "output_type": "stream",
     "text": [
      "Enter your choice between 1 to 5:  1\n",
      "Enter First Name:  Shakshi\n",
      "Enter Last Name:  Jain\n",
      "Enter Pan card Number:  CPHPJ1462B\n",
      "Which type of account would you like to open (Current/Savings):  Savings\n",
      "How much amount do you wish to deposit?  500\n"
     ]
    },
    {
     "name": "stdout",
     "output_type": "stream",
     "text": [
      "Your Assigned username is Shakshi83\n",
      "Your Assigned password is 5473\n",
      "Account Number: 111122229543\n",
      "Account Type: Savings\n",
      "Your Initial balance is Rs. 500\n",
      "\n",
      "\n",
      "\n",
      "1. Open an Account\n",
      "2. View Account Details\n",
      "3. Perform Transactions (Withdraw/Deposit/Transfer)\n",
      "4. View Transaction History\n",
      "5. Exit\n",
      "    \n",
      "\n"
     ]
    },
    {
     "name": "stdin",
     "output_type": "stream",
     "text": [
      "Enter your choice between 1 to 5:  3\n",
      "Enter username:  Shakshi83\n",
      "Enter password:  5473\n",
      "Enter PAN card number:  CPHPJ1462B\n"
     ]
    },
    {
     "name": "stdout",
     "output_type": "stream",
     "text": [
      "\n",
      "1. Deposit\n",
      "2. Withdraw\n",
      "3. Transfer\n"
     ]
    },
    {
     "name": "stdin",
     "output_type": "stream",
     "text": [
      "Enter transaction type:  Deposit\n",
      "Enter amount you wish to deposit:  300\n"
     ]
    },
    {
     "name": "stdout",
     "output_type": "stream",
     "text": [
      "Your current balance is: Rs. 800.0\n",
      "\n",
      "\n",
      "1. Open an Account\n",
      "2. View Account Details\n",
      "3. Perform Transactions (Withdraw/Deposit/Transfer)\n",
      "4. View Transaction History\n",
      "5. Exit\n",
      "    \n",
      "\n"
     ]
    },
    {
     "name": "stdin",
     "output_type": "stream",
     "text": [
      "Enter your choice between 1 to 5:  3\n",
      "Enter username:  Shakshi83\n",
      "Enter password:  5473\n",
      "Enter PAN card number:  CPHPJ1462B\n"
     ]
    },
    {
     "name": "stdout",
     "output_type": "stream",
     "text": [
      "\n",
      "1. Deposit\n",
      "2. Withdraw\n",
      "3. Transfer\n"
     ]
    },
    {
     "name": "stdin",
     "output_type": "stream",
     "text": [
      "Enter transaction type:  Transfer\n",
      "Enter receiver's PAN card:  CSNJCNJSNC3545454\n",
      "Enter amount you want to transfer:  101\n"
     ]
    },
    {
     "name": "stdout",
     "output_type": "stream",
     "text": [
      "Receiver's account not found.\n",
      "\n",
      "\n",
      "1. Open an Account\n",
      "2. View Account Details\n",
      "3. Perform Transactions (Withdraw/Deposit/Transfer)\n",
      "4. View Transaction History\n",
      "5. Exit\n",
      "    \n",
      "\n"
     ]
    },
    {
     "name": "stdin",
     "output_type": "stream",
     "text": [
      "Enter your choice between 1 to 5:  5\n"
     ]
    },
    {
     "name": "stdout",
     "output_type": "stream",
     "text": [
      "Thank you for banking with WsCube Bank. Goodbye!\n"
     ]
    }
   ],
   "source": [
    "import random\n",
    "import datetime\n",
    "\n",
    "# Initialize dictionaries to store data\n",
    "credentials = {}\n",
    "users_db = {}\n",
    "passbook = {}\n",
    "nested_t = {}\n",
    "\n",
    "# Welcome message\n",
    "print(\"~\" * 8, \"Welcome to Ayush Bank\", \"~\" * 8)\n",
    "print(\"\\nHow Can we help you today?\")\n",
    "\n",
    "while True:\n",
    "    print(\"\"\"\\n\n",
    "1. Open an Account\n",
    "2. View Account Details\n",
    "3. Perform Transactions (Withdraw/Deposit/Transfer)\n",
    "4. View Transaction History\n",
    "5. Exit\n",
    "    \\n\"\"\")\n",
    "    choice = int(input(\"Enter your choice between 1 to 5: \"))\n",
    "\n",
    "    if choice == 1:  # Open an Account\n",
    "        fname = input(\"Enter First Name: \")\n",
    "        lname = input(\"Enter Last Name: \")\n",
    "        pancard = input(\"Enter Pan card Number: \")\n",
    "\n",
    "        if pancard in users_db.keys():\n",
    "            print(\"Your account already exists!\")\n",
    "            print(\"Try Again\")\n",
    "            continue\n",
    "\n",
    "        # Generate account number and username\n",
    "        account_number = \"11112222\"  # constant code for the branch\n",
    "        for i in range(4):\n",
    "            account_number += str(random.randint(0, 9))\n",
    "\n",
    "        account_type = input(\"Which type of account would you like to open (Current/Savings): \")\n",
    "        balance = int(input(\"How much amount do you wish to deposit? \"))\n",
    "        username = fname\n",
    "\n",
    "        for i in range(2):\n",
    "            username += str(random.randint(0, 9))\n",
    "\n",
    "        # Generate password\n",
    "        password = \"\"\n",
    "        for i in range(4):\n",
    "            password += str(random.randint(0, 9))\n",
    "\n",
    "        # Print assigned details\n",
    "        print(\"Your Assigned username is\", username)\n",
    "        print(\"Your Assigned password is\", password)\n",
    "        print(\"Account Number:\", account_number)\n",
    "        print(\"Account Type:\", account_type)\n",
    "        print(\"Your Initial balance is Rs.\", balance)\n",
    "        print()\n",
    "\n",
    "        # Save credentials and user details\n",
    "        credentials[username] = password\n",
    "        users_db[pancard] = [fname, lname, account_number, account_type, balance]\n",
    "\n",
    "    elif choice == 2:  # View Account Details\n",
    "        un = input(\"Enter username: \")\n",
    "        ps = input(\"Enter password: \")\n",
    "        pc = input(\"Enter PAN card number: \")\n",
    "\n",
    "        if un in credentials.keys() and ps == credentials[un] and pc in users_db.keys():\n",
    "            print(\"Your Account Details are: \")\n",
    "            print(\"Account Number:\", users_db[pc][2])\n",
    "            print(\"Account Holder's Name:\", users_db[pc][0], users_db[pc][1])\n",
    "            print(\"Account Type:\", users_db[pc][3])\n",
    "            print(\"Total Balance is: Rs.\", users_db[pc][4])\n",
    "        else:\n",
    "            print(\"This account does not exist, try again!\")\n",
    "\n",
    "    elif choice == 3:  # Perform Transactions\n",
    "        un = input(\"Enter username: \")\n",
    "        ps = input(\"Enter password: \")\n",
    "        pc = input(\"Enter PAN card number: \")\n",
    "\n",
    "        if un in credentials.keys() and ps == credentials[un] and pc in users_db.keys():\n",
    "            print(\"\"\"\n",
    "1. Deposit\n",
    "2. Withdraw\n",
    "3. Transfer\"\"\")\n",
    "            t_type = input(\"Enter transaction type: \").capitalize()\n",
    "\n",
    "            if t_type == \"Deposit\":\n",
    "                t_amount = float(input(\"Enter amount you wish to deposit: \"))\n",
    "                users_db[pc][4] += t_amount\n",
    "                timestamp = datetime.datetime.now()\n",
    "                print(\"Your current balance is: Rs.\", users_db[pc][4])\n",
    "\n",
    "            elif t_type == \"Withdraw\":\n",
    "                t_amount = float(input(\"Enter amount you wish to withdraw: \"))\n",
    "                if t_amount > users_db[pc][4]:\n",
    "                    print(\"You cannot withdraw more than the deposited amount.\")\n",
    "                else:\n",
    "                    users_db[pc][4] -= t_amount\n",
    "                    timestamp = datetime.datetime.now()\n",
    "                    print(\"Remaining balance is Rs.\", users_db[pc][4])\n",
    "\n",
    "            elif t_type == \"Transfer\":\n",
    "                r_pancard = input(\"Enter receiver's PAN card: \")\n",
    "                t_amount = float(input(\"Enter amount you want to transfer: \"))\n",
    "                \n",
    "                if t_amount > users_db[pc][4]:\n",
    "                    print(\"You cannot transfer more than the deposited amount.\")\n",
    "                elif r_pancard in users_db.keys():\n",
    "                    users_db[pc][4] -= t_amount\n",
    "                    users_db[r_pancard][4] += t_amount\n",
    "                    timestamp = datetime.datetime.now()\n",
    "                    print(\"Remaining balance is Rs.\", users_db[pc][4])\n",
    "                else:\n",
    "                    print(\"Receiver's account not found.\")\n",
    "\n",
    "            # Log transaction in passbook\n",
    "            nested_t[timestamp] = [t_type, t_amount, users_db[pc][4]]\n",
    "            passbook[pc] = nested_t\n",
    "\n",
    "        else:\n",
    "            print(\"Authentication failed. Please check your details.\")\n",
    "\n",
    "    elif choice == 4:  # View Transaction History\n",
    "        un = input(\"Enter username: \")\n",
    "        ps = input(\"Enter password: \")\n",
    "        pc = input(\"Enter PAN card number: \")\n",
    "\n",
    "        if un in credentials.keys() and ps == credentials[un] and pc in passbook.keys():\n",
    "            print(\"\\nTimestamp        Type     Amount    Balance\")\n",
    "            for timestamp, transactions in passbook[pc].items():\n",
    "                print(f\"{timestamp}    {transactions[0]}    {transactions[1]}    {transactions[2]}\")\n",
    "        else:\n",
    "            print(\"No transaction history found or authentication failed.\")\n",
    "\n",
    "    elif choice == 5:  # Exit\n",
    "        print(\"Thank you for banking with WsCube Bank. Goodbye!\")\n",
    "        break\n",
    "\n",
    "    else:\n",
    "        print(\"Invalid choice. Please try again.\")\n"
   ]
  },
  {
   "cell_type": "code",
   "execution_count": null,
   "id": "a314d21f-643e-4e90-88d3-31d0377027ba",
   "metadata": {},
   "outputs": [],
   "source": []
  }
 ],
 "metadata": {
  "kernelspec": {
   "display_name": "Python 3 (ipykernel)",
   "language": "python",
   "name": "python3"
  },
  "language_info": {
   "codemirror_mode": {
    "name": "ipython",
    "version": 3
   },
   "file_extension": ".py",
   "mimetype": "text/x-python",
   "name": "python",
   "nbconvert_exporter": "python",
   "pygments_lexer": "ipython3",
   "version": "3.13.0"
  }
 },
 "nbformat": 4,
 "nbformat_minor": 5
}
